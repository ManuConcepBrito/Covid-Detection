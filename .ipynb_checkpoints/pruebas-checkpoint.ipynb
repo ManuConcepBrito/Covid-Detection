{
 "cells": [
  {
   "cell_type": "code",
   "execution_count": 1,
   "metadata": {},
   "outputs": [],
   "source": [
    "%load_ext autoreload\n",
    "%autoreload 2"
   ]
  },
  {
   "cell_type": "code",
   "execution_count": 2,
   "metadata": {
    "pycharm": {
     "name": "#%%\n"
    }
   },
   "outputs": [],
   "source": [
    "import torch\n",
    "import numpy as np\n",
    "import torch.nn as nn\n",
    "import torch.optim as optim\n",
    "from models.miniNet import MiniNet\n",
    "from utils.outputEvaluation import binary_acc\n",
    "import matplotlib.pyplot as plt\n",
    "from torchvision import transforms\n",
    "from utils.train import TrainClass\n",
    "from datasets.covidDataset import CovidDataset"
   ]
  },
  {
   "cell_type": "markdown",
   "metadata": {},
   "source": [
    "### Load Data"
   ]
  },
  {
   "cell_type": "code",
   "execution_count": 3,
   "metadata": {
    "pycharm": {
     "name": "#%%\n"
    }
   },
   "outputs": [],
   "source": [
    "covid_data_train = CovidDataset(\"utils\", phase='train', transform=transforms.FiveCrop((100,100)))\n",
    "covid_data_val = CovidDataset(\"utils\", phase='val', transform=transforms.FiveCrop((100,100)))\n",
    "covid_data_test = CovidDataset(\"utils\", phase='test', transform=transforms.FiveCrop((100,100)))"
   ]
  },
  {
   "cell_type": "markdown",
   "metadata": {},
   "source": [
    "### Perform training\n",
    "Perform training on Binary Cross Entropy Loss"
   ]
  },
  {
   "cell_type": "code",
   "execution_count": 4,
   "metadata": {},
   "outputs": [],
   "source": [
    "net = MiniNet()\n",
    "criterion = nn.BCEWithLogitsLoss()\n",
    "optimizer = optim.Adam(net.parameters(), lr=0.001)"
   ]
  },
  {
   "cell_type": "code",
   "execution_count": null,
   "metadata": {},
   "outputs": [
    {
     "name": "stdout",
     "output_type": "stream",
     "text": [
      "Training loss iter 500 loss: 0.649\n",
      "\t\n",
      "Validation metric: 72.857\n"
     ]
    }
   ],
   "source": [
    "train_instance = TrainClass(net, \n",
    "                            criterion, \n",
    "                            optimizer,\n",
    "                           binary_acc,\n",
    "                           covid_data_train,\n",
    "                           val_data=covid_data_val,\n",
    "                           epochs=25,\n",
    "                           print_every=500,\n",
    "                           )\n",
    "losses = train_instance.train()"
   ]
  }
 ],
 "metadata": {
  "kernelspec": {
   "display_name": "Python 3",
   "language": "python",
   "name": "python3"
  },
  "language_info": {
   "codemirror_mode": {
    "name": "ipython",
    "version": 3
   },
   "file_extension": ".py",
   "mimetype": "text/x-python",
   "name": "python",
   "nbconvert_exporter": "python",
   "pygments_lexer": "ipython3",
   "version": "3.7.7"
  }
 },
 "nbformat": 4,
 "nbformat_minor": 1
}
